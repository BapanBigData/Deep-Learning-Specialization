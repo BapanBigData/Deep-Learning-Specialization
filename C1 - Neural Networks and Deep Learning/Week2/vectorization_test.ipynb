{
 "cells": [
  {
   "cell_type": "code",
   "execution_count": 1,
   "metadata": {},
   "outputs": [],
   "source": [
    "import numpy as np\n",
    "import time"
   ]
  },
  {
   "cell_type": "code",
   "execution_count": 2,
   "metadata": {},
   "outputs": [
    {
     "data": {
      "text/plain": [
       "'1.26.4'"
      ]
     },
     "execution_count": 2,
     "metadata": {},
     "output_type": "execute_result"
    }
   ],
   "source": [
    "np.__version__"
   ]
  },
  {
   "cell_type": "code",
   "execution_count": 24,
   "metadata": {},
   "outputs": [
    {
     "name": "stdout",
     "output_type": "stream",
     "text": [
      "249960.1404585559\n",
      "Vectorized version: 1.012563705444336 ms\n",
      "249960.14045854454\n",
      "For loop: 451.948881149292 ms\n"
     ]
    }
   ],
   "source": [
    "x = np.random.rand(1000000)\n",
    "y = np.random.rand(1000000)\n",
    "\n",
    "start = time.time()\n",
    "z = np.dot(x, y)\n",
    "end = time.time()\n",
    "\n",
    "print(z)\n",
    "print(f\"Vectorized version: {1000*(end-start)} ms\")\n",
    "\n",
    "start = time.time()\n",
    "z = 0\n",
    "for i in range(1000000):\n",
    "    z += x[i] * y[i]\n",
    "    \n",
    "end = time.time()\n",
    "print(z)\n",
    "print(f\"For loop: {1000*(end-start)} ms\")"
   ]
  }
 ],
 "metadata": {
  "kernelspec": {
   "display_name": "myenv",
   "language": "python",
   "name": "python3"
  },
  "language_info": {
   "codemirror_mode": {
    "name": "ipython",
    "version": 3
   },
   "file_extension": ".py",
   "mimetype": "text/x-python",
   "name": "python",
   "nbconvert_exporter": "python",
   "pygments_lexer": "ipython3",
   "version": "3.9.0"
  }
 },
 "nbformat": 4,
 "nbformat_minor": 2
}
